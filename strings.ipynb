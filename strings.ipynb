{
 "cells": [
  {
   "cell_type": "markdown",
   "metadata": {},
   "source": [
    "# Strings\n",
    "\n",
    "This exercise is an edited version of a lab from [the Berkeley data science\n",
    "course](https://github.com/data-8/data8assets/tree/gh-pages/materials/su17/lab/lab02),\n",
    "with thanks.\n",
    "\n",
    "So far, we've only used Python to manipulate numbers.  There's a lot more to\n",
    "life than numbers, so Python lets us represent many other types of data in\n",
    "programs.\n",
    "\n",
    "In this lab, you'll first see how to represent and manipulate another\n",
    "fundamental type of data: text.  A piece of text is called a *string* in\n",
    "Python.\n",
    "\n",
    "You'll also see how to invoke *methods*.  A method is very similar to a\n",
    "function.  It just looks a little different because it's tied to a particular\n",
    "piece of data (like a piece of text or a number).\n",
    "\n",
    "Initialize the OK tests to get started."
   ]
  },
  {
   "cell_type": "code",
   "execution_count": null,
   "metadata": {
    "lines_to_next_cell": 2
   },
   "outputs": [],
   "source": [
    "# Don't change this cell; just run it.\n",
    "from client.api.notebook import Notebook\n",
    "ok = Notebook('strings.ok')"
   ]
  },
  {
   "cell_type": "markdown",
   "metadata": {},
   "source": [
    "# 1. Review: The building blocks of Python code\n",
    "\n",
    "The two building blocks of Python code are *expressions* and *statements*.  An\n",
    "**expression** is a piece of code that\n",
    "\n",
    "* is self-contained, meaning it would make sense to write it on a line by\n",
    "  itself, and\n",
    "* usually has a value."
   ]
  },
  {
   "cell_type": "markdown",
   "metadata": {},
   "source": [
    "Here are two expressions that both evaluate to 3:"
   ]
  },
  {
   "cell_type": "code",
   "execution_count": null,
   "metadata": {},
   "outputs": [],
   "source": [
    "3"
   ]
  },
  {
   "cell_type": "code",
   "execution_count": null,
   "metadata": {},
   "outputs": [],
   "source": [
    "5 - 2"
   ]
  },
  {
   "cell_type": "markdown",
   "metadata": {},
   "source": [
    "One important form of an expression is the **call expression**, which first\n",
    "names a function and then describes its arguments. The function returns some\n",
    "value, based on its arguments. Some important mathematical functions are\n",
    "\n",
    "| Function | Description                                                   |\n",
    "|----------|---------------------------------------------------------------|\n",
    "| `abs`    | Returns the absolute value of its argument                    |\n",
    "| `max`    | Returns the maximum of all its arguments                      |\n",
    "| `min`    | Returns the minimum of all its arguments                      |\n",
    "| `pow`    | Raises its first argument to the power of its second argument |\n",
    "| `round`  | Round its argument to the nearest integer                     |\n",
    "\n",
    "Here are two call expressions that both evaluate to 3"
   ]
  },
  {
   "cell_type": "code",
   "execution_count": null,
   "metadata": {},
   "outputs": [],
   "source": [
    "abs(2 - 5)"
   ]
  },
  {
   "cell_type": "code",
   "execution_count": null,
   "metadata": {},
   "outputs": [],
   "source": [
    "max(round(2.8), min(pow(2, 10), -1 * pow(2, 10)))"
   ]
  },
  {
   "cell_type": "markdown",
   "metadata": {},
   "source": [
    "All these expressions but the first are **compound expressions**, meaning that\n",
    "they are actually combinations of several smaller expressions.  `2 + 3`\n",
    "combines the expressions `2` and `3` by addition.  In this case, `2` and `3`\n",
    "are called **subexpressions** because they're expressions that are part of\n",
    "a larger expression.\n",
    "\n",
    "A **statement** is a whole line of code.  Some statements are just expressions.\n",
    "The expressions listed above are examples.\n",
    "\n",
    "Other statements *make something happen* rather than *having a value*.  After\n",
    "they are run, something in the world has changed.  For example, an **assignment\n",
    "statement** assigns a value to a name.\n",
    "\n",
    "A good way to think about this is that we're **evaluating the right-hand side** of the equals sign and **assigning it to the left-hand side**. Here are some assignment statements:"
   ]
  },
  {
   "cell_type": "code",
   "execution_count": null,
   "metadata": {},
   "outputs": [],
   "source": [
    "height = 1.3"
   ]
  },
  {
   "cell_type": "code",
   "execution_count": null,
   "metadata": {},
   "outputs": [],
   "source": [
    "the_number_five = abs(-5)"
   ]
  },
  {
   "cell_type": "code",
   "execution_count": null,
   "metadata": {},
   "outputs": [],
   "source": [
    "absolute_height_difference = abs(height - 1.688)"
   ]
  },
  {
   "cell_type": "code",
   "execution_count": null,
   "metadata": {},
   "outputs": [],
   "source": [
    "# just run this cell, it uses the print() function to show the values we assigned above\n",
    "\n",
    "print(height)\n",
    "print(the_number_five)\n",
    "print(absolute_height_difference)"
   ]
  },
  {
   "cell_type": "markdown",
   "metadata": {},
   "source": [
    "# 2. Text\n",
    "\n",
    "Programming doesn't just concern numbers. Text is one of the most common types\n",
    "of values used in programs.\n",
    "\n",
    "A snippet of text is represented by a **string value** in Python. The word\n",
    "\"*string*\" is a programming term for a sequence of characters. A string might\n",
    "contain a single character, a word, a sentence, or a whole book.\n",
    "\n",
    "To distinguish text data from actual code, we demarcate strings by putting\n",
    "quotation marks around them. Single quotes (`'`) and double quotes (`\"`) are\n",
    "both valid, but the types of opening and closing quotation marks must match.\n",
    "The contents can be any sequence of characters, including numbers and symbols.\n",
    "\n",
    "We've seen strings before in `print` statements.  Below, two different strings\n",
    "are passed as arguments to the `print` function."
   ]
  },
  {
   "cell_type": "code",
   "execution_count": null,
   "metadata": {},
   "outputs": [],
   "source": [
    "print(\"I <3\", 'Data Science')"
   ]
  },
  {
   "cell_type": "markdown",
   "metadata": {},
   "source": [
    "Just like names can be given to numbers, names can be given to string values.\n",
    "The names and strings aren't required to be similar in any way. Any name can be\n",
    "assigned to any string."
   ]
  },
  {
   "cell_type": "code",
   "execution_count": null,
   "metadata": {},
   "outputs": [],
   "source": [
    "one = 'two'\n",
    "plus = '*'\n",
    "print(one, plus, one)"
   ]
  },
  {
   "cell_type": "markdown",
   "metadata": {},
   "source": [
    "**Question 2.1.** Yuri Gagarin was the first person to travel through outer space.  When he emerged from his capsule upon landing on Earth, he [reportedly](https://en.wikiquote.org/wiki/Yuri_Gagarin) had the following conversation with a woman and girl who saw the landing:\n",
    "\n",
    "> The woman asked: \"Can it be that you have come from outer space?\"\n",
    "> Gagarin replied: \"As a matter of fact, I have!\"\n",
    "\n",
    "The cell below contains unfinished code.  Fill in the `...`s so that it prints\n",
    "out this conversation *exactly* as it appears above."
   ]
  },
  {
   "cell_type": "code",
   "execution_count": null,
   "metadata": {},
   "outputs": [],
   "source": [
    "woman_asking = ...\n",
    "woman_quote = '\"Can it be that you have come from outer space?\"'\n",
    "gagarin_reply = 'Gagarin replied:'\n",
    "gagarin_quote = ...\n",
    "print(woman_asking, woman_quote)\n",
    "print(gagarin_reply, gagarin_quote)"
   ]
  },
  {
   "cell_type": "code",
   "execution_count": null,
   "metadata": {},
   "outputs": [],
   "source": [
    "_ = ok.grade('q21')"
   ]
  },
  {
   "cell_type": "markdown",
   "metadata": {},
   "source": [
    "## 2.1. String Methods"
   ]
  },
  {
   "cell_type": "markdown",
   "metadata": {},
   "source": [
    "Strings can be transformed using **methods**, which are functions that involve\n",
    "an existing string and some other arguments. One example is the `replace`\n",
    "method, which replaces all instances of some part of a string with some\n",
    "alternative.\n",
    "\n",
    "A method is invoked on a string by placing a `.` after the string value, then\n",
    "the name of the method, and finally parentheses containing the arguments.\n",
    "Here's a sketch, where the `<` and `>` symbols aren't part of the syntax; they\n",
    "just mark the boundaries of sub-expressions.  A call expression that calls\n",
    "a method on a string has the following structure:\n",
    "\n",
    "    <expression that evaluates to a string>.<method name>(<argument>, <argument>, ...)\n",
    "\n",
    "**Try to predict the output of these examples**, then execute them."
   ]
  },
  {
   "cell_type": "code",
   "execution_count": null,
   "metadata": {},
   "outputs": [],
   "source": [
    "# Replace one letter\n",
    "'Hello'.replace('o', 'a')"
   ]
  },
  {
   "cell_type": "code",
   "execution_count": null,
   "metadata": {},
   "outputs": [],
   "source": [
    "# Replace a sequence of letters, which appears twice\n",
    "'matchmaker'.replace('ma', 'hi')"
   ]
  },
  {
   "cell_type": "markdown",
   "metadata": {},
   "source": [
    "Once a name is bound to a string value, methods can be invoked on that name as\n",
    "well. The name is still bound to the original string, so a new name is needed\n",
    "to capture the result."
   ]
  },
  {
   "cell_type": "code",
   "execution_count": null,
   "metadata": {},
   "outputs": [],
   "source": [
    "sharp = 'edged'\n",
    "hot = sharp.replace('ed', 'ma')\n",
    "print('sharp:', sharp)\n",
    "print('hot:', hot)"
   ]
  },
  {
   "cell_type": "markdown",
   "metadata": {},
   "source": [
    "You can call functions on the results of other functions.  For example,"
   ]
  },
  {
   "cell_type": "code",
   "execution_count": null,
   "metadata": {},
   "outputs": [],
   "source": [
    "max(abs(-5), abs(3))"
   ]
  },
  {
   "cell_type": "markdown",
   "metadata": {},
   "source": [
    "has value 5.  Similarly, you can invoke methods on the results of other method\n",
    "(or function) calls."
   ]
  },
  {
   "cell_type": "code",
   "execution_count": null,
   "metadata": {},
   "outputs": [],
   "source": [
    "# Calling replace on the output of another call to\n",
    "# replace\n",
    "'train'.replace('t', 'ing').replace('in', 'de')"
   ]
  },
  {
   "cell_type": "markdown",
   "metadata": {},
   "source": [
    "Here's a picture of how Python evaluates a \"chained\" method call like that:\n",
    "\n",
    "<img src=\"chaining_method_calls.jpg\"/>"
   ]
  },
  {
   "cell_type": "markdown",
   "metadata": {},
   "source": [
    "**Question 2.1.1.** Assign strings to the names `you` and `this` so that the final expression evaluates to a 10-letter English word with three double letters in a row.\n",
    "\n",
    "This isn't the right answer, but the word 'tattooee' is an 8 letter example of\n",
    "such a word because it has double 't' followed by double 'o' followed by double\n",
    "'e'.\n",
    "\n",
    "*Hint 1:* Remember, having a piece of paper next to the computer is useful.\n",
    "*When you get stuck, go to the paper, and write out the problem.  Reason about\n",
    "*the solution on the piece of paper.\n",
    "\n",
    "*Hint 2:* After you guess at some values for `you` and `this`, it's helpful to\n",
    "*see the value of the variable `the`.  Try printing the value of `the` by\n",
    "*adding a line like this:\n",
    "\n",
    "```\n",
    "print(the)\n",
    "```\n",
    "\n",
    "*Hint 3:* Run the tests if you're stuck.  They'll often give you help."
   ]
  },
  {
   "cell_type": "code",
   "execution_count": null,
   "metadata": {},
   "outputs": [],
   "source": [
    "you = ...\n",
    "this = ...\n",
    "a = 'beeper'\n",
    "the = a.replace('p', you)\n",
    "# This last line is a bare expression.  The notebook will show the result.\n",
    "the.replace('bee', this)"
   ]
  },
  {
   "cell_type": "code",
   "execution_count": null,
   "metadata": {},
   "outputs": [],
   "source": [
    "_ = ok.grade('q211')"
   ]
  },
  {
   "cell_type": "markdown",
   "metadata": {},
   "source": [
    "Other string methods do not take any arguments at all, because the original\n",
    "string is all that's needed to compute the result. In this case, parentheses\n",
    "are still needed, but there's nothing in between the parentheses. Here are some\n",
    "methods that work that way:\n",
    "\n",
    "| Method name | Value |\n",
    "|-------------|-------|\n",
    "| `lower` | a lowercased version of the string |\n",
    "| `upper` | an uppercased version of the string |\n",
    "| `capitalize`| a version with the first letter capitalized |\n",
    "| `title` | a version with the first letter of every word capitalized |\n"
   ]
  },
  {
   "cell_type": "code",
   "execution_count": null,
   "metadata": {},
   "outputs": [],
   "source": [
    "'unIverSITy of caliFORnia'.title()"
   ]
  },
  {
   "cell_type": "markdown",
   "metadata": {},
   "source": [
    "All these string methods are useful, but most programmers don't memorize their\n",
    "names or how to use them.  In the \"real world,\" people usually just search the\n",
    "internet for documentation and examples. A complete [list of string\n",
    "methods](https://docs.python.org/3/library/stdtypes.html#string-methods)\n",
    "appears in the Python language documentation. [Stack\n",
    "Overflow](http://stackoverflow.com) has a huge database of answered questions\n",
    "that often demonstrate how to use these methods to achieve various ends.\n"
   ]
  },
  {
   "cell_type": "markdown",
   "metadata": {},
   "source": [
    "## 2.2. Converting to and from Strings"
   ]
  },
  {
   "cell_type": "markdown",
   "metadata": {},
   "source": [
    "Strings and numbers are different *types* of values, even when a string contains the digits of a number. For example, evaluating the following cell causes an error because an integer cannot be added to a string."
   ]
  },
  {
   "cell_type": "code",
   "execution_count": null,
   "metadata": {
    "tags": [
     "raises-exception"
    ]
   },
   "outputs": [],
   "source": [
    "8 + \"8\""
   ]
  },
  {
   "cell_type": "markdown",
   "metadata": {},
   "source": [
    "However, there are built-in functions to convert numbers to strings and strings to numbers.\n",
    "\n",
    "*   `int`:   Converts a string of digits to an integer (\"int\") value\n",
    "*   `float`: Converts a string of digits, perhaps with a decimal point, to\n",
    "    a decimal (\"float\") value\n",
    "*   `str`:   Converts any value to a string\n",
    "\n",
    "**Try to predict what the following cell will evaluate to**, then evaluate it."
   ]
  },
  {
   "cell_type": "code",
   "execution_count": null,
   "metadata": {},
   "outputs": [],
   "source": [
    "8 + int(\"8\")"
   ]
  },
  {
   "cell_type": "markdown",
   "metadata": {},
   "source": [
    "Suppose you're writing a program that looks for dates in a text, and you want\n",
    "your program to find the amount of time that elapsed between two years it has\n",
    "identified.  It doesn't make sense to subtract two texts, but you can first\n",
    "convert the text containing the years into numbers.\n",
    "\n",
    "**Question 2.2.1.** Finish the code below to compute the number of years that\n",
    "elapsed between `one_year` and `another_year`.  Don't just write the numbers\n",
    "`1618` and `1648` (or `30`); use a conversion function to turn the given text\n",
    "data into numbers."
   ]
  },
  {
   "cell_type": "code",
   "execution_count": null,
   "metadata": {},
   "outputs": [],
   "source": [
    "# Some text data:\n",
    "one_year = \"1618\"\n",
    "another_year = \"1648\"\n",
    "\n",
    "# Complete the next line.  Note that we can't just write:\n",
    "#   another_year - one_year\n",
    "# If you don't see why, try seeing what happens when you\n",
    "# write that here.\n",
    "difference = ...\n",
    "difference"
   ]
  },
  {
   "cell_type": "code",
   "execution_count": null,
   "metadata": {},
   "outputs": [],
   "source": [
    "_ = ok.grade('q221')"
   ]
  },
  {
   "cell_type": "markdown",
   "metadata": {},
   "source": [
    "## 2.3. Strings as function arguments\n",
    "\n",
    "String values, like numbers, can be arguments to functions and can be returned\n",
    "by functions.  The function `len` takes a single string as its argument and\n",
    "returns the number of characters in the string: its **len**-gth.\n",
    "\n",
    "Note that it doesn't count *words*. `len(\"one small step for man\")` is 22, not\n",
    "5.\n",
    "\n",
    "**Question 2.3.1.**  Use `len` to find out the number of characters in the very long string in the next cell.  (It's the first sentence of the English translation of the French [Declaration of the Rights of Man](http://avalon.law.yale.edu/18th_century/rightsof.asp).)  The length of a string is the total number of characters in it, including things like spaces and punctuation.  Assign `sentence_length` to that number."
   ]
  },
  {
   "cell_type": "code",
   "execution_count": null,
   "metadata": {},
   "outputs": [],
   "source": [
    "a_very_long_sentence = \"The representatives of the French people, organized as a National Assembly, believing that the ignorance, neglect, or contempt of the rights of man are the sole cause of public calamities and of the corruption of governments, have determined to set forth in a solemn declaration the natural, unalienable, and sacred rights of man, in order that this declaration, being constantly before all the members of the Social body, shall remind them continually of their rights and duties; in order that the acts of the legislative power, as well as those of the executive power, may be compared at any moment with the objects and purposes of all political institutions and may thus be more respected, and, lastly, in order that the grievances of the citizens, based hereafter upon simple and incontestable principles, shall tend to the maintenance of the constitution and redound to the happiness of all.\"\n",
    "sentence_length = ...\n",
    "sentence_length"
   ]
  },
  {
   "cell_type": "code",
   "execution_count": null,
   "metadata": {},
   "outputs": [],
   "source": [
    "_ = ok.grade('q231')"
   ]
  },
  {
   "cell_type": "markdown",
   "metadata": {},
   "source": [
    "You're done with this assignment!\n",
    "\n",
    "Be sure to run the tests and verify that they all pass, then choose **Save and\n",
    "Checkpoint** from the **File** menu.\n",
    "\n",
    "You can run the cell below to run all the tests in one go."
   ]
  },
  {
   "cell_type": "code",
   "execution_count": null,
   "metadata": {},
   "outputs": [],
   "source": [
    "# For your convenience, you can run this cell to run all the tests at once!\n",
    "import os\n",
    "_ = [ok.grade(q[:-3]) for q in os.listdir(\"tests\") if q.startswith('q')]"
   ]
  }
 ],
 "metadata": {
  "jupytext": {
   "split_at_heading": true,
   "text_representation": {
    "extension": ".Rmd",
    "format_name": "rmarkdown",
    "format_version": "1.1",
    "jupytext_version": "1.2.4"
   }
  },
  "kernelspec": {
   "display_name": "Python 3",
   "language": "python",
   "name": "python3"
  },
  "language_info": {
   "codemirror_mode": {
    "name": "ipython",
    "version": 3
   },
   "file_extension": ".py",
   "mimetype": "text/x-python",
   "name": "python",
   "nbconvert_exporter": "python",
   "pygments_lexer": "ipython3",
   "version": "3.7.9"
  }
 },
 "nbformat": 4,
 "nbformat_minor": 4
}
